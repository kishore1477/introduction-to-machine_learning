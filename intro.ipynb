{
 "cells": [
  {
   "cell_type": "markdown",
   "id": "0a6a75b5",
   "metadata": {},
   "source": [
    "# Welcome to jupyter notebook\n"
   ]
  },
  {
   "cell_type": "code",
   "execution_count": 1,
   "id": "98fdd9ab",
   "metadata": {},
   "outputs": [],
   "source": [
    "import numpy as py"
   ]
  },
  {
   "cell_type": "code",
   "execution_count": 2,
   "id": "52298f00",
   "metadata": {},
   "outputs": [
    {
     "ename": "AttributeError",
     "evalue": "module 'numpy' has no attribute 'arrar'",
     "output_type": "error",
     "traceback": [
      "\u001b[1;31m---------------------------------------------------------------------------\u001b[0m",
      "\u001b[1;31mAttributeError\u001b[0m                            Traceback (most recent call last)",
      "Cell \u001b[1;32mIn [2], line 1\u001b[0m\n\u001b[1;32m----> 1\u001b[0m arr \u001b[38;5;241m=\u001b[39m \u001b[43mpy\u001b[49m\u001b[38;5;241;43m.\u001b[39;49m\u001b[43marrar\u001b[49m([\u001b[38;5;241m1\u001b[39m,\u001b[38;5;241m2\u001b[39m,\u001b[38;5;241m3\u001b[39m,\u001b[38;5;241m4\u001b[39m])\n",
      "File \u001b[1;32m~\\AppData\\Local\\Programs\\Python\\Python310\\lib\\site-packages\\numpy\\__init__.py:311\u001b[0m, in \u001b[0;36m__getattr__\u001b[1;34m(attr)\u001b[0m\n\u001b[0;32m    308\u001b[0m     \u001b[38;5;28;01mfrom\u001b[39;00m \u001b[38;5;21;01m.\u001b[39;00m\u001b[38;5;21;01mtesting\u001b[39;00m \u001b[38;5;28;01mimport\u001b[39;00m Tester\n\u001b[0;32m    309\u001b[0m     \u001b[38;5;28;01mreturn\u001b[39;00m Tester\n\u001b[1;32m--> 311\u001b[0m \u001b[38;5;28;01mraise\u001b[39;00m \u001b[38;5;167;01mAttributeError\u001b[39;00m(\u001b[38;5;124m\"\u001b[39m\u001b[38;5;124mmodule \u001b[39m\u001b[38;5;132;01m{!r}\u001b[39;00m\u001b[38;5;124m has no attribute \u001b[39m\u001b[38;5;124m\"\u001b[39m\n\u001b[0;32m    312\u001b[0m                      \u001b[38;5;124m\"\u001b[39m\u001b[38;5;132;01m{!r}\u001b[39;00m\u001b[38;5;124m\"\u001b[39m\u001b[38;5;241m.\u001b[39mformat(\u001b[38;5;18m__name__\u001b[39m, attr))\n",
      "\u001b[1;31mAttributeError\u001b[0m: module 'numpy' has no attribute 'arrar'"
     ]
    }
   ],
   "source": [
    "arr = py.arrar([1,2,3,4])"
   ]
  },
  {
   "cell_type": "code",
   "execution_count": null,
   "id": "e3a96af4",
   "metadata": {},
   "outputs": [],
   "source": [
    "arr = py.array([1,4,5,6])"
   ]
  },
  {
   "cell_type": "code",
   "execution_count": null,
   "id": "f47a01ce",
   "metadata": {},
   "outputs": [],
   "source": [
    "arr.shape"
   ]
  },
  {
   "cell_type": "code",
   "execution_count": null,
   "id": "bd865c5a",
   "metadata": {},
   "outputs": [],
   "source": [
    "arr.dtype"
   ]
  },
  {
   "cell_type": "code",
   "execution_count": null,
   "id": "c77a2126",
   "metadata": {},
   "outputs": [],
   "source": [
    "arr1 = py.array([1,3,4,5])"
   ]
  },
  {
   "cell_type": "code",
   "execution_count": null,
   "id": "08b81909",
   "metadata": {},
   "outputs": [],
   "source": [
    "arr2 = py.array([2,4,5,6])"
   ]
  },
  {
   "cell_type": "code",
   "execution_count": null,
   "id": "90d3f351",
   "metadata": {},
   "outputs": [],
   "source": [
    "arrsum = arr1+arr2"
   ]
  },
  {
   "cell_type": "code",
   "execution_count": null,
   "id": "f544761b",
   "metadata": {},
   "outputs": [],
   "source": [
    "arrsum"
   ]
  },
  {
   "cell_type": "code",
   "execution_count": null,
   "id": "72f07394",
   "metadata": {},
   "outputs": [],
   "source": [
    "arr"
   ]
  },
  {
   "cell_type": "code",
   "execution_count": null,
   "id": "41e12862",
   "metadata": {},
   "outputs": [],
   "source": [
    "arrr = py.array([[1,3,4,5], [4,5,6,7], [3,6,9,5]])"
   ]
  },
  {
   "cell_type": "code",
   "execution_count": null,
   "id": "a0930185",
   "metadata": {},
   "outputs": [],
   "source": [
    "arrr"
   ]
  },
  {
   "cell_type": "code",
   "execution_count": null,
   "id": "04ddb97b",
   "metadata": {},
   "outputs": [],
   "source": [
    "arrr.shape"
   ]
  },
  {
   "cell_type": "code",
   "execution_count": null,
   "id": "6e5b5703",
   "metadata": {},
   "outputs": [],
   "source": [
    "arr.dtype"
   ]
  },
  {
   "cell_type": "code",
   "execution_count": null,
   "id": "97b5eaa9",
   "metadata": {},
   "outputs": [],
   "source": [
    "arry = py.array([[1,4,5,6], [4,5,6,7], [3,5,7,8]])"
   ]
  },
  {
   "cell_type": "code",
   "execution_count": null,
   "id": "f80bf332",
   "metadata": {},
   "outputs": [],
   "source": [
    "mulSum = arrr+arry"
   ]
  },
  {
   "cell_type": "code",
   "execution_count": null,
   "id": "9cd04af5",
   "metadata": {},
   "outputs": [],
   "source": [
    "mulSum"
   ]
  },
  {
   "cell_type": "code",
   "execution_count": null,
   "id": "8e9c5db5",
   "metadata": {},
   "outputs": [],
   "source": [
    "mul = arrr * arry"
   ]
  },
  {
   "cell_type": "code",
   "execution_count": null,
   "id": "1b03e9af",
   "metadata": {},
   "outputs": [],
   "source": [
    "mul"
   ]
  },
  {
   "cell_type": "code",
   "execution_count": 4,
   "id": "87f82886",
   "metadata": {},
   "outputs": [
    {
     "ename": "TypeError",
     "evalue": "Cannot interpret '4' as a data type",
     "output_type": "error",
     "traceback": [
      "\u001b[1;31m---------------------------------------------------------------------------\u001b[0m",
      "\u001b[1;31mTypeError\u001b[0m                                 Traceback (most recent call last)",
      "Cell \u001b[1;32mIn [4], line 1\u001b[0m\n\u001b[1;32m----> 1\u001b[0m \u001b[43mpy\u001b[49m\u001b[38;5;241;43m.\u001b[39;49m\u001b[43mzeros\u001b[49m\u001b[43m(\u001b[49m\u001b[38;5;241;43m2\u001b[39;49m\u001b[43m,\u001b[49m\u001b[38;5;241;43m4\u001b[39;49m\u001b[43m)\u001b[49m\n",
      "\u001b[1;31mTypeError\u001b[0m: Cannot interpret '4' as a data type"
     ]
    }
   ],
   "source": [
    "py.zeros(2,4)"
   ]
  },
  {
   "cell_type": "code",
   "execution_count": 6,
   "id": "b186f63f",
   "metadata": {},
   "outputs": [
    {
     "data": {
      "text/plain": [
       "array([[0., 0., 0.],\n",
       "       [0., 0., 0.]])"
      ]
     },
     "execution_count": 6,
     "metadata": {},
     "output_type": "execute_result"
    }
   ],
   "source": [
    "py.zeros([2,3])"
   ]
  },
  {
   "cell_type": "code",
   "execution_count": 8,
   "id": "743fe590",
   "metadata": {},
   "outputs": [],
   "source": [
    "b = py.zeros([2,2])"
   ]
  },
  {
   "cell_type": "code",
   "execution_count": 10,
   "id": "6b580791",
   "metadata": {},
   "outputs": [
    {
     "data": {
      "text/plain": [
       "array([[0., 0.],\n",
       "       [0., 0.]])"
      ]
     },
     "execution_count": 10,
     "metadata": {},
     "output_type": "execute_result"
    }
   ],
   "source": [
    "b\n"
   ]
  },
  {
   "cell_type": "code",
   "execution_count": 12,
   "id": "5fb54e6b",
   "metadata": {},
   "outputs": [],
   "source": [
    "c = py.array([1,2,34])"
   ]
  },
  {
   "cell_type": "code",
   "execution_count": 14,
   "id": "647e9184",
   "metadata": {},
   "outputs": [],
   "source": [
    "c[0] =23"
   ]
  },
  {
   "cell_type": "code",
   "execution_count": 16,
   "id": "fba3412a",
   "metadata": {},
   "outputs": [
    {
     "data": {
      "text/plain": [
       "array([23,  2, 34])"
      ]
     },
     "execution_count": 16,
     "metadata": {},
     "output_type": "execute_result"
    }
   ],
   "source": [
    "c"
   ]
  },
  {
   "cell_type": "code",
   "execution_count": 18,
   "id": "c3adc228",
   "metadata": {},
   "outputs": [
    {
     "ename": "IndexError",
     "evalue": "index 2 is out of bounds for axis 1 with size 2",
     "output_type": "error",
     "traceback": [
      "\u001b[1;31m---------------------------------------------------------------------------\u001b[0m",
      "\u001b[1;31mIndexError\u001b[0m                                Traceback (most recent call last)",
      "Cell \u001b[1;32mIn [18], line 1\u001b[0m\n\u001b[1;32m----> 1\u001b[0m \u001b[43mb\u001b[49m\u001b[43m[\u001b[49m\u001b[38;5;241;43m0\u001b[39;49m\u001b[43m,\u001b[49m\u001b[38;5;241;43m2\u001b[39;49m\u001b[43m]\u001b[49m \u001b[38;5;241m=\u001b[39m \u001b[38;5;241m12\u001b[39m\n",
      "\u001b[1;31mIndexError\u001b[0m: index 2 is out of bounds for axis 1 with size 2"
     ]
    }
   ],
   "source": [
    "b[0,2] = 12"
   ]
  },
  {
   "cell_type": "code",
   "execution_count": 20,
   "id": "4de4da01",
   "metadata": {},
   "outputs": [
    {
     "data": {
      "text/plain": [
       "(2, 2)"
      ]
     },
     "execution_count": 20,
     "metadata": {},
     "output_type": "execute_result"
    }
   ],
   "source": [
    "b.shape"
   ]
  },
  {
   "cell_type": "code",
   "execution_count": null,
   "id": "03898d38",
   "metadata": {},
   "outputs": [],
   "source": [
    "b"
   ]
  }
 ],
 "metadata": {
  "kernelspec": {
   "display_name": "Python 3 (ipykernel)",
   "language": "python",
   "name": "python3"
  },
  "language_info": {
   "codemirror_mode": {
    "name": "ipython",
    "version": 3
   },
   "file_extension": ".py",
   "mimetype": "text/x-python",
   "name": "python",
   "nbconvert_exporter": "python",
   "pygments_lexer": "ipython3",
   "version": "3.10.7"
  }
 },
 "nbformat": 4,
 "nbformat_minor": 5
}
