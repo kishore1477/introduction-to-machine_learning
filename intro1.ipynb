{
 "cells": [
  {
   "cell_type": "markdown",
   "id": "1939ac23",
   "metadata": {},
   "source": [
    "# Welcome to jupyter notebook\n"
   ]
  },
  {
   "cell_type": "code",
   "execution_count": 1,
   "id": "f3bfb73b",
   "metadata": {},
   "outputs": [],
   "source": [
    "import numpy as py"
   ]
  },
  {
   "cell_type": "code",
   "execution_count": 2,
   "id": "8c120202",
   "metadata": {},
   "outputs": [
    {
     "ename": "AttributeError",
     "evalue": "module 'numpy' has no attribute 'arrar'",
     "output_type": "error",
     "traceback": [
      "\u001b[1;31m---------------------------------------------------------------------------\u001b[0m",
      "\u001b[1;31mAttributeError\u001b[0m                            Traceback (most recent call last)",
      "Cell \u001b[1;32mIn [2], line 1\u001b[0m\n\u001b[1;32m----> 1\u001b[0m arr \u001b[38;5;241m=\u001b[39m \u001b[43mpy\u001b[49m\u001b[38;5;241;43m.\u001b[39;49m\u001b[43marrar\u001b[49m([\u001b[38;5;241m1\u001b[39m,\u001b[38;5;241m2\u001b[39m,\u001b[38;5;241m3\u001b[39m,\u001b[38;5;241m4\u001b[39m])\n",
      "File \u001b[1;32m~\\AppData\\Local\\Programs\\Python\\Python310\\lib\\site-packages\\numpy\\__init__.py:311\u001b[0m, in \u001b[0;36m__getattr__\u001b[1;34m(attr)\u001b[0m\n\u001b[0;32m    308\u001b[0m     \u001b[38;5;28;01mfrom\u001b[39;00m \u001b[38;5;21;01m.\u001b[39;00m\u001b[38;5;21;01mtesting\u001b[39;00m \u001b[38;5;28;01mimport\u001b[39;00m Tester\n\u001b[0;32m    309\u001b[0m     \u001b[38;5;28;01mreturn\u001b[39;00m Tester\n\u001b[1;32m--> 311\u001b[0m \u001b[38;5;28;01mraise\u001b[39;00m \u001b[38;5;167;01mAttributeError\u001b[39;00m(\u001b[38;5;124m\"\u001b[39m\u001b[38;5;124mmodule \u001b[39m\u001b[38;5;132;01m{!r}\u001b[39;00m\u001b[38;5;124m has no attribute \u001b[39m\u001b[38;5;124m\"\u001b[39m\n\u001b[0;32m    312\u001b[0m                      \u001b[38;5;124m\"\u001b[39m\u001b[38;5;132;01m{!r}\u001b[39;00m\u001b[38;5;124m\"\u001b[39m\u001b[38;5;241m.\u001b[39mformat(\u001b[38;5;18m__name__\u001b[39m, attr))\n",
      "\u001b[1;31mAttributeError\u001b[0m: module 'numpy' has no attribute 'arrar'"
     ]
    }
   ],
   "source": [
    "arr = py.arrar([1,2,3,4])"
   ]
  },
  {
   "cell_type": "code",
   "execution_count": null,
   "id": "c230d413",
   "metadata": {},
   "outputs": [],
   "source": [
    "arr = py.array([1,4,5,6])"
   ]
  },
  {
   "cell_type": "code",
   "execution_count": null,
   "id": "da3ba050",
   "metadata": {},
   "outputs": [],
   "source": [
    "arr.shape"
   ]
  },
  {
   "cell_type": "code",
   "execution_count": null,
   "id": "c0f5db45",
   "metadata": {},
   "outputs": [],
   "source": [
    "arr.dtype"
   ]
  },
  {
   "cell_type": "code",
   "execution_count": null,
   "id": "2304ebf4",
   "metadata": {},
   "outputs": [],
   "source": [
    "arr1 = py.array([1,3,4,5])"
   ]
  },
  {
   "cell_type": "code",
   "execution_count": null,
   "id": "33c467a9",
   "metadata": {},
   "outputs": [],
   "source": [
    "arr2 = py.array([2,4,5,6])"
   ]
  },
  {
   "cell_type": "code",
   "execution_count": null,
   "id": "8ad1c6c9",
   "metadata": {},
   "outputs": [],
   "source": [
    "arrsum = arr1+arr2"
   ]
  },
  {
   "cell_type": "code",
   "execution_count": null,
   "id": "cb57f846",
   "metadata": {},
   "outputs": [],
   "source": [
    "arrsum"
   ]
  },
  {
   "cell_type": "code",
   "execution_count": null,
   "id": "25865b8a",
   "metadata": {},
   "outputs": [],
   "source": [
    "arr"
   ]
  },
  {
   "cell_type": "code",
   "execution_count": null,
   "id": "6598f4d7",
   "metadata": {},
   "outputs": [],
   "source": [
    "arrr = py.array([[1,3,4,5], [4,5,6,7], [3,6,9,5]])"
   ]
  },
  {
   "cell_type": "code",
   "execution_count": null,
   "id": "29c2c33e",
   "metadata": {},
   "outputs": [],
   "source": [
    "arrr"
   ]
  },
  {
   "cell_type": "code",
   "execution_count": null,
   "id": "b56d76c4",
   "metadata": {},
   "outputs": [],
   "source": [
    "arrr.shape"
   ]
  },
  {
   "cell_type": "code",
   "execution_count": null,
   "id": "37a1a2e6",
   "metadata": {},
   "outputs": [],
   "source": [
    "arr.dtype"
   ]
  },
  {
   "cell_type": "code",
   "execution_count": null,
   "id": "87679fb1",
   "metadata": {},
   "outputs": [],
   "source": [
    "arry = py.array([[1,4,5,6], [4,5,6,7], [3,5,7,8]])"
   ]
  },
  {
   "cell_type": "code",
   "execution_count": null,
   "id": "e584eaf3",
   "metadata": {},
   "outputs": [],
   "source": [
    "mulSum = arrr+arry"
   ]
  },
  {
   "cell_type": "code",
   "execution_count": null,
   "id": "81907913",
   "metadata": {},
   "outputs": [],
   "source": [
    "mulSum"
   ]
  },
  {
   "cell_type": "code",
   "execution_count": null,
   "id": "0dcd6c96",
   "metadata": {},
   "outputs": [],
   "source": [
    "mul = arrr * arry"
   ]
  },
  {
   "cell_type": "code",
   "execution_count": null,
   "id": "55ebccef",
   "metadata": {},
   "outputs": [],
   "source": [
    "mul"
   ]
  },
  {
   "cell_type": "code",
   "execution_count": 4,
   "id": "413aa817",
   "metadata": {},
   "outputs": [
    {
     "ename": "TypeError",
     "evalue": "Cannot interpret '4' as a data type",
     "output_type": "error",
     "traceback": [
      "\u001b[1;31m---------------------------------------------------------------------------\u001b[0m",
      "\u001b[1;31mTypeError\u001b[0m                                 Traceback (most recent call last)",
      "Cell \u001b[1;32mIn [4], line 1\u001b[0m\n\u001b[1;32m----> 1\u001b[0m \u001b[43mpy\u001b[49m\u001b[38;5;241;43m.\u001b[39;49m\u001b[43mzeros\u001b[49m\u001b[43m(\u001b[49m\u001b[38;5;241;43m2\u001b[39;49m\u001b[43m,\u001b[49m\u001b[38;5;241;43m4\u001b[39;49m\u001b[43m)\u001b[49m\n",
      "\u001b[1;31mTypeError\u001b[0m: Cannot interpret '4' as a data type"
     ]
    }
   ],
   "source": [
    "py.zeros(2,4)"
   ]
  },
  {
   "cell_type": "code",
   "execution_count": 6,
   "id": "0f276c75",
   "metadata": {},
   "outputs": [
    {
     "data": {
      "text/plain": [
       "array([[0., 0., 0.],\n",
       "       [0., 0., 0.]])"
      ]
     },
     "execution_count": 6,
     "metadata": {},
     "output_type": "execute_result"
    }
   ],
   "source": [
    "py.zeros([2,3])"
   ]
  },
  {
   "cell_type": "code",
   "execution_count": 8,
   "id": "ca326581",
   "metadata": {},
   "outputs": [],
   "source": [
    "b = py.zeros([2,2])"
   ]
  },
  {
   "cell_type": "code",
   "execution_count": 10,
   "id": "745754a9",
   "metadata": {},
   "outputs": [
    {
     "data": {
      "text/plain": [
       "array([[0., 0.],\n",
       "       [0., 0.]])"
      ]
     },
     "execution_count": 10,
     "metadata": {},
     "output_type": "execute_result"
    }
   ],
   "source": [
    "b\n"
   ]
  },
  {
   "cell_type": "code",
   "execution_count": 12,
   "id": "a09b70d9",
   "metadata": {},
   "outputs": [],
   "source": [
    "c = py.array([1,2,34])"
   ]
  },
  {
   "cell_type": "code",
   "execution_count": 14,
   "id": "49b1feda",
   "metadata": {},
   "outputs": [],
   "source": [
    "c[0] =23"
   ]
  },
  {
   "cell_type": "code",
   "execution_count": 16,
   "id": "be22295d",
   "metadata": {},
   "outputs": [
    {
     "data": {
      "text/plain": [
       "array([23,  2, 34])"
      ]
     },
     "execution_count": 16,
     "metadata": {},
     "output_type": "execute_result"
    }
   ],
   "source": [
    "c"
   ]
  },
  {
   "cell_type": "code",
   "execution_count": 18,
   "id": "7d545476",
   "metadata": {},
   "outputs": [
    {
     "ename": "IndexError",
     "evalue": "index 2 is out of bounds for axis 1 with size 2",
     "output_type": "error",
     "traceback": [
      "\u001b[1;31m---------------------------------------------------------------------------\u001b[0m",
      "\u001b[1;31mIndexError\u001b[0m                                Traceback (most recent call last)",
      "Cell \u001b[1;32mIn [18], line 1\u001b[0m\n\u001b[1;32m----> 1\u001b[0m \u001b[43mb\u001b[49m\u001b[43m[\u001b[49m\u001b[38;5;241;43m0\u001b[39;49m\u001b[43m,\u001b[49m\u001b[38;5;241;43m2\u001b[39;49m\u001b[43m]\u001b[49m \u001b[38;5;241m=\u001b[39m \u001b[38;5;241m12\u001b[39m\n",
      "\u001b[1;31mIndexError\u001b[0m: index 2 is out of bounds for axis 1 with size 2"
     ]
    }
   ],
   "source": [
    "b[0,2] = 12"
   ]
  },
  {
   "cell_type": "code",
   "execution_count": 20,
   "id": "6d7c5802",
   "metadata": {},
   "outputs": [
    {
     "data": {
      "text/plain": [
       "(2, 2)"
      ]
     },
     "execution_count": 20,
     "metadata": {},
     "output_type": "execute_result"
    }
   ],
   "source": [
    "b.shape"
   ]
  },
  {
   "cell_type": "code",
   "execution_count": 22,
   "id": "e5de1b75",
   "metadata": {},
   "outputs": [],
   "source": [
    "b[0,1] = 12"
   ]
  },
  {
   "cell_type": "code",
   "execution_count": 24,
   "id": "a1b66189",
   "metadata": {},
   "outputs": [
    {
     "data": {
      "text/plain": [
       "array([[ 0., 12.],\n",
       "       [ 0.,  0.]])"
      ]
     },
     "execution_count": 24,
     "metadata": {},
     "output_type": "execute_result"
    }
   ],
   "source": [
    "b"
   ]
  },
  {
   "cell_type": "code",
   "execution_count": 26,
   "id": "79c05712",
   "metadata": {},
   "outputs": [],
   "source": [
    "b[0,0] = 13"
   ]
  },
  {
   "cell_type": "code",
   "execution_count": 28,
   "id": "978d614c",
   "metadata": {},
   "outputs": [
    {
     "data": {
      "text/plain": [
       "array([[13., 12.],\n",
       "       [ 0.,  0.]])"
      ]
     },
     "execution_count": 28,
     "metadata": {},
     "output_type": "execute_result"
    }
   ],
   "source": [
    "b"
   ]
  },
  {
   "cell_type": "code",
   "execution_count": 30,
   "id": "865b12b5",
   "metadata": {},
   "outputs": [
    {
     "data": {
      "text/plain": [
       "array({3, 4, 22}, dtype=object)"
      ]
     },
     "execution_count": 30,
     "metadata": {},
     "output_type": "execute_result"
    }
   ],
   "source": [
    "py.array({22,3,4})"
   ]
  },
  {
   "cell_type": "code",
   "execution_count": 32,
   "id": "7aa008bf",
   "metadata": {},
   "outputs": [],
   "source": [
    "d = py.zeros([6,8])"
   ]
  },
  {
   "cell_type": "code",
   "execution_count": 35,
   "id": "d1fc9037",
   "metadata": {},
   "outputs": [
    {
     "data": {
      "text/plain": [
       "array([[0., 0., 0., 0., 0., 0., 0., 0.],\n",
       "       [0., 0., 0., 0., 0., 0., 0., 0.],\n",
       "       [0., 0., 0., 0., 0., 0., 0., 0.],\n",
       "       [0., 0., 0., 0., 0., 0., 0., 0.],\n",
       "       [0., 0., 0., 0., 0., 0., 0., 0.],\n",
       "       [0., 0., 0., 0., 0., 0., 0., 0.]])"
      ]
     },
     "execution_count": 35,
     "metadata": {},
     "output_type": "execute_result"
    }
   ],
   "source": [
    "d"
   ]
  },
  {
   "cell_type": "code",
   "execution_count": 37,
   "id": "f209f8fe",
   "metadata": {},
   "outputs": [
    {
     "ename": "AttributeError",
     "evalue": "'numpy.ndarray' object has no attribute 'range'",
     "output_type": "error",
     "traceback": [
      "\u001b[1;31m---------------------------------------------------------------------------\u001b[0m",
      "\u001b[1;31mAttributeError\u001b[0m                            Traceback (most recent call last)",
      "Cell \u001b[1;32mIn [37], line 1\u001b[0m\n\u001b[1;32m----> 1\u001b[0m \u001b[43md\u001b[49m\u001b[38;5;241;43m.\u001b[39;49m\u001b[43mrange\u001b[49m\n",
      "\u001b[1;31mAttributeError\u001b[0m: 'numpy.ndarray' object has no attribute 'range'"
     ]
    }
   ],
   "source": [
    "d.range\n"
   ]
  },
  {
   "cell_type": "code",
   "execution_count": 39,
   "id": "c53ae08b",
   "metadata": {},
   "outputs": [
    {
     "ename": "AttributeError",
     "evalue": "'numpy.ndarray' object has no attribute 'arange'",
     "output_type": "error",
     "traceback": [
      "\u001b[1;31m---------------------------------------------------------------------------\u001b[0m",
      "\u001b[1;31mAttributeError\u001b[0m                            Traceback (most recent call last)",
      "Cell \u001b[1;32mIn [39], line 1\u001b[0m\n\u001b[1;32m----> 1\u001b[0m \u001b[43md\u001b[49m\u001b[38;5;241;43m.\u001b[39;49m\u001b[43marange\u001b[49m\n",
      "\u001b[1;31mAttributeError\u001b[0m: 'numpy.ndarray' object has no attribute 'arange'"
     ]
    }
   ],
   "source": [
    "d.arange"
   ]
  },
  {
   "cell_type": "code",
   "execution_count": 41,
   "id": "9ff95e44",
   "metadata": {},
   "outputs": [
    {
     "data": {
      "text/plain": [
       "array([ 0,  1,  2,  3,  4,  5,  6,  7,  8,  9, 10, 11, 12, 13, 14, 15, 16,\n",
       "       17, 18, 19, 20, 21, 22])"
      ]
     },
     "execution_count": 41,
     "metadata": {},
     "output_type": "execute_result"
    }
   ],
   "source": [
    "py.arange(23)"
   ]
  },
  {
   "cell_type": "code",
   "execution_count": 43,
   "id": "2598cfc6",
   "metadata": {},
   "outputs": [
    {
     "ename": "NameError",
     "evalue": "name 'np' is not defined",
     "output_type": "error",
     "traceback": [
      "\u001b[1;31m---------------------------------------------------------------------------\u001b[0m",
      "\u001b[1;31mNameError\u001b[0m                                 Traceback (most recent call last)",
      "Cell \u001b[1;32mIn [43], line 1\u001b[0m\n\u001b[1;32m----> 1\u001b[0m \u001b[43mnp\u001b[49m\u001b[38;5;241m.\u001b[39midentity(\u001b[38;5;241m3\u001b[39m,\u001b[38;5;241m3\u001b[39m)\n",
      "\u001b[1;31mNameError\u001b[0m: name 'np' is not defined"
     ]
    }
   ],
   "source": [
    "np.identity(3,3)"
   ]
  },
  {
   "cell_type": "code",
   "execution_count": 45,
   "id": "3e3c7ecf",
   "metadata": {},
   "outputs": [
    {
     "data": {
      "text/plain": [
       "<function id(obj, /)>"
      ]
     },
     "execution_count": 45,
     "metadata": {},
     "output_type": "execute_result"
    }
   ],
   "source": [
    "id"
   ]
  },
  {
   "cell_type": "code",
   "execution_count": 47,
   "id": "c1bc6212",
   "metadata": {},
   "outputs": [
    {
     "data": {
      "text/plain": [
       "array([[1., 0., 0.],\n",
       "       [0., 1., 0.],\n",
       "       [0., 0., 1.]])"
      ]
     },
     "execution_count": 47,
     "metadata": {},
     "output_type": "execute_result"
    }
   ],
   "source": [
    "py.identity(3)"
   ]
  },
  {
   "cell_type": "code",
   "execution_count": 49,
   "id": "6a7623d7",
   "metadata": {},
   "outputs": [],
   "source": [
    "ide = py.identity(4)"
   ]
  },
  {
   "cell_type": "code",
   "execution_count": 52,
   "id": "65311c63",
   "metadata": {},
   "outputs": [
    {
     "data": {
      "text/plain": [
       "array([[1., 0., 0., 0.],\n",
       "       [0., 1., 0., 0.],\n",
       "       [0., 0., 1., 0.],\n",
       "       [0., 0., 0., 1.]])"
      ]
     },
     "execution_count": 52,
     "metadata": {},
     "output_type": "execute_result"
    }
   ],
   "source": [
    "ide"
   ]
  },
  {
   "cell_type": "code",
   "execution_count": 54,
   "id": "00098f56",
   "metadata": {},
   "outputs": [
    {
     "data": {
      "text/plain": [
       "16"
      ]
     },
     "execution_count": 54,
     "metadata": {},
     "output_type": "execute_result"
    }
   ],
   "source": [
    "ide.size"
   ]
  },
  {
   "cell_type": "code",
   "execution_count": 56,
   "id": "db3aba0a",
   "metadata": {},
   "outputs": [
    {
     "data": {
      "text/plain": [
       "(4, 4)"
      ]
     },
     "execution_count": 56,
     "metadata": {},
     "output_type": "execute_result"
    }
   ],
   "source": [
    "ide.shape"
   ]
  },
  {
   "cell_type": "code",
   "execution_count": null,
   "id": "c7b27c94",
   "metadata": {},
   "outputs": [],
   "source": [
    "emp = py.empty(2,2)"
   ]
  },
  {
   "cell_type": "code",
   "execution_count": 59,
   "id": "5fb18689",
   "metadata": {},
   "outputs": [
    {
     "ename": "NameError",
     "evalue": "name 'emp' is not defined",
     "output_type": "error",
     "traceback": [
      "\u001b[1;31m---------------------------------------------------------------------------\u001b[0m",
      "\u001b[1;31mNameError\u001b[0m                                 Traceback (most recent call last)",
      "Cell \u001b[1;32mIn [59], line 1\u001b[0m\n\u001b[1;32m----> 1\u001b[0m \u001b[43memp\u001b[49m\n",
      "\u001b[1;31mNameError\u001b[0m: name 'emp' is not defined"
     ]
    }
   ],
   "source": [
    "emp\n"
   ]
  },
  {
   "cell_type": "code",
   "execution_count": 61,
   "id": "9d84f285",
   "metadata": {},
   "outputs": [],
   "source": [
    "empt = py.empty((2,2))"
   ]
  },
  {
   "cell_type": "code",
   "execution_count": 64,
   "id": "61c1bdc5",
   "metadata": {},
   "outputs": [
    {
     "data": {
      "text/plain": [
       "array([[1., 1.],\n",
       "       [1., 1.]])"
      ]
     },
     "execution_count": 64,
     "metadata": {},
     "output_type": "execute_result"
    }
   ],
   "source": [
    "empt"
   ]
  },
  {
   "cell_type": "code",
   "execution_count": 66,
   "id": "be3b2092",
   "metadata": {},
   "outputs": [],
   "source": [
    "empy = py.empty((34,34))"
   ]
  },
  {
   "cell_type": "code",
   "execution_count": 68,
   "id": "fd16a859",
   "metadata": {},
   "outputs": [
    {
     "data": {
      "text/plain": [
       "array([[ 4.94065646e-324,  2.52961611e-321,  6.95171553e-310, ...,\n",
       "                     nan,  6.89799718e-307,              nan],\n",
       "       [             nan,  1.25160405e-308,  4.72835834e-308, ...,\n",
       "                     nan,              nan,              nan],\n",
       "       [             nan,              nan,              nan, ...,\n",
       "                     nan,  1.11253693e-306,  5.56268465e-309],\n",
       "       ...,\n",
       "       [-8.74320333e-113,  0.00000000e+000,  0.00000000e+000, ...,\n",
       "         0.00000000e+000,  0.00000000e+000, -6.11147805e-112],\n",
       "       [ 0.00000000e+000,  0.00000000e+000, -8.74320333e-113, ...,\n",
       "         0.00000000e+000, -2.82348770e-210,  0.00000000e+000],\n",
       "       [ 0.00000000e+000, -6.11147805e-112,  0.00000000e+000, ...,\n",
       "        -8.74320333e-113,  0.00000000e+000,  0.00000000e+000]])"
      ]
     },
     "execution_count": 68,
     "metadata": {},
     "output_type": "execute_result"
    }
   ],
   "source": [
    "empy"
   ]
  },
  {
   "cell_type": "code",
   "execution_count": 70,
   "id": "1b879043",
   "metadata": {},
   "outputs": [],
   "source": [
    "arre = py.arange(45)"
   ]
  },
  {
   "cell_type": "code",
   "execution_count": 73,
   "id": "f0e0e339",
   "metadata": {},
   "outputs": [
    {
     "data": {
      "text/plain": [
       "array([ 0,  1,  2,  3,  4,  5,  6,  7,  8,  9, 10, 11, 12, 13, 14, 15, 16,\n",
       "       17, 18, 19, 20, 21, 22, 23, 24, 25, 26, 27, 28, 29, 30, 31, 32, 33,\n",
       "       34, 35, 36, 37, 38, 39, 40, 41, 42, 43, 44])"
      ]
     },
     "execution_count": 73,
     "metadata": {},
     "output_type": "execute_result"
    }
   ],
   "source": [
    "arre"
   ]
  },
  {
   "cell_type": "code",
   "execution_count": 76,
   "id": "2f4ff9da",
   "metadata": {},
   "outputs": [
    {
     "ename": "ValueError",
     "evalue": "cannot reshape array of size 45 into shape (2,4)",
     "output_type": "error",
     "traceback": [
      "\u001b[1;31m---------------------------------------------------------------------------\u001b[0m",
      "\u001b[1;31mValueError\u001b[0m                                Traceback (most recent call last)",
      "Cell \u001b[1;32mIn [76], line 1\u001b[0m\n\u001b[1;32m----> 1\u001b[0m \u001b[43marre\u001b[49m\u001b[38;5;241;43m.\u001b[39;49m\u001b[43mreshape\u001b[49m\u001b[43m(\u001b[49m\u001b[38;5;241;43m2\u001b[39;49m\u001b[43m,\u001b[49m\u001b[38;5;241;43m4\u001b[39;49m\u001b[43m)\u001b[49m\n",
      "\u001b[1;31mValueError\u001b[0m: cannot reshape array of size 45 into shape (2,4)"
     ]
    }
   ],
   "source": [
    "arre.reshape(2,4)"
   ]
  },
  {
   "cell_type": "code",
   "execution_count": 78,
   "id": "55400e07",
   "metadata": {},
   "outputs": [
    {
     "ename": "ValueError",
     "evalue": "cannot reshape array of size 45 into shape (2,22)",
     "output_type": "error",
     "traceback": [
      "\u001b[1;31m---------------------------------------------------------------------------\u001b[0m",
      "\u001b[1;31mValueError\u001b[0m                                Traceback (most recent call last)",
      "Cell \u001b[1;32mIn [78], line 1\u001b[0m\n\u001b[1;32m----> 1\u001b[0m \u001b[43marre\u001b[49m\u001b[38;5;241;43m.\u001b[39;49m\u001b[43mreshape\u001b[49m\u001b[43m(\u001b[49m\u001b[38;5;241;43m2\u001b[39;49m\u001b[43m,\u001b[49m\u001b[38;5;241;43m22\u001b[39;49m\u001b[43m)\u001b[49m\n",
      "\u001b[1;31mValueError\u001b[0m: cannot reshape array of size 45 into shape (2,22)"
     ]
    }
   ],
   "source": [
    "arre.reshape(2,22)"
   ]
  },
  {
   "cell_type": "code",
   "execution_count": 80,
   "id": "e2f716cb",
   "metadata": {},
   "outputs": [],
   "source": [
    "arrt = py.arange(44)"
   ]
  },
  {
   "cell_type": "code",
   "execution_count": 82,
   "id": "28032706",
   "metadata": {},
   "outputs": [
    {
     "data": {
      "text/plain": [
       "array([ 0,  1,  2,  3,  4,  5,  6,  7,  8,  9, 10, 11, 12, 13, 14, 15, 16,\n",
       "       17, 18, 19, 20, 21, 22, 23, 24, 25, 26, 27, 28, 29, 30, 31, 32, 33,\n",
       "       34, 35, 36, 37, 38, 39, 40, 41, 42, 43])"
      ]
     },
     "execution_count": 82,
     "metadata": {},
     "output_type": "execute_result"
    }
   ],
   "source": [
    "arrt"
   ]
  },
  {
   "cell_type": "code",
   "execution_count": 85,
   "id": "c77ca890",
   "metadata": {},
   "outputs": [
    {
     "data": {
      "text/plain": [
       "array([[ 0,  1,  2,  3,  4,  5,  6,  7,  8,  9, 10, 11, 12, 13, 14, 15,\n",
       "        16, 17, 18, 19, 20, 21],\n",
       "       [22, 23, 24, 25, 26, 27, 28, 29, 30, 31, 32, 33, 34, 35, 36, 37,\n",
       "        38, 39, 40, 41, 42, 43]])"
      ]
     },
     "execution_count": 85,
     "metadata": {},
     "output_type": "execute_result"
    }
   ],
   "source": [
    "arrt.reshape(2,22)"
   ]
  },
  {
   "cell_type": "code",
   "execution_count": null,
   "id": "86dcf698",
   "metadata": {},
   "outputs": [],
   "source": []
  }
 ],
 "metadata": {
  "kernelspec": {
   "display_name": "Python 3 (ipykernel)",
   "language": "python",
   "name": "python3"
  },
  "language_info": {
   "codemirror_mode": {
    "name": "ipython",
    "version": 3
   },
   "file_extension": ".py",
   "mimetype": "text/x-python",
   "name": "python",
   "nbconvert_exporter": "python",
   "pygments_lexer": "ipython3",
   "version": "3.10.7"
  }
 },
 "nbformat": 4,
 "nbformat_minor": 5
}
