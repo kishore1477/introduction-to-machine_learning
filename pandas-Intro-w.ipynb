{
 "cells": [
  {
   "cell_type": "markdown",
   "id": "3bcca2a4",
   "metadata": {},
   "source": [
    "# Welcome to intro to pandas"
   ]
  },
  {
   "cell_type": "markdown",
   "id": "136a1135",
   "metadata": {},
   "source": [
    "* import pandas"
   ]
  },
  {
   "cell_type": "code",
   "execution_count": 2,
   "id": "4bdc2a21",
   "metadata": {},
   "outputs": [],
   "source": [
    "import pandas as pd"
   ]
  },
  {
   "cell_type": "code",
   "execution_count": 38,
   "id": "3bfb4c7a",
   "metadata": {},
   "outputs": [],
   "source": [
    "import numpy as np"
   ]
  },
  {
   "cell_type": "markdown",
   "id": "e257b603",
   "metadata": {},
   "source": [
    "* create python dictionary"
   ]
  },
  {
   "cell_type": "code",
   "execution_count": 4,
   "id": "218b06a9",
   "metadata": {},
   "outputs": [],
   "source": [
    "dict = {\"col1\":[1,2], \"col2\":[2,3] }"
   ]
  },
  {
   "cell_type": "markdown",
   "id": "7db7435b",
   "metadata": {},
   "source": [
    "* Show created dictionary in the form of rows and column using DataFrame of pandas"
   ]
  },
  {
   "cell_type": "code",
   "execution_count": 35,
   "id": "80146d32",
   "metadata": {},
   "outputs": [],
   "source": [
    "Darry =pd.DataFrame(dict)"
   ]
  },
  {
   "cell_type": "code",
   "execution_count": 36,
   "id": "95792ef4",
   "metadata": {},
   "outputs": [
    {
     "data": {
      "text/html": [
       "<div>\n",
       "<style scoped>\n",
       "    .dataframe tbody tr th:only-of-type {\n",
       "        vertical-align: middle;\n",
       "    }\n",
       "\n",
       "    .dataframe tbody tr th {\n",
       "        vertical-align: top;\n",
       "    }\n",
       "\n",
       "    .dataframe thead th {\n",
       "        text-align: right;\n",
       "    }\n",
       "</style>\n",
       "<table border=\"1\" class=\"dataframe\">\n",
       "  <thead>\n",
       "    <tr style=\"text-align: right;\">\n",
       "      <th></th>\n",
       "      <th>col1</th>\n",
       "      <th>col2</th>\n",
       "    </tr>\n",
       "  </thead>\n",
       "  <tbody>\n",
       "    <tr>\n",
       "      <th>0</th>\n",
       "      <td>1</td>\n",
       "      <td>2</td>\n",
       "    </tr>\n",
       "    <tr>\n",
       "      <th>1</th>\n",
       "      <td>2</td>\n",
       "      <td>3</td>\n",
       "    </tr>\n",
       "  </tbody>\n",
       "</table>\n",
       "</div>"
      ],
      "text/plain": [
       "   col1  col2\n",
       "0     1     2\n",
       "1     2     3"
      ]
     },
     "execution_count": 36,
     "metadata": {},
     "output_type": "execute_result"
    }
   ],
   "source": [
    "Darry"
   ]
  },
  {
   "cell_type": "code",
   "execution_count": 37,
   "id": "cfad5ebe",
   "metadata": {},
   "outputs": [
    {
     "data": {
      "text/plain": [
       "col1    int64\n",
       "col2    int64\n",
       "dtype: object"
      ]
     },
     "execution_count": 37,
     "metadata": {},
     "output_type": "execute_result"
    }
   ],
   "source": [
    "Darry.dtypes"
   ]
  },
  {
   "cell_type": "markdown",
   "id": "6201b1f1",
   "metadata": {},
   "source": [
    "* data as a constant"
   ]
  },
  {
   "cell_type": "code",
   "execution_count": 27,
   "id": "02f7590f",
   "metadata": {},
   "outputs": [],
   "source": [
    "cnst = {\"col1\":1, \"col2\":2, \"col3 \": [1,34]}"
   ]
  },
  {
   "cell_type": "markdown",
   "id": "1bb85688",
   "metadata": {},
   "source": [
    "* add custom indexes"
   ]
  },
  {
   "cell_type": "code",
   "execution_count": 30,
   "id": "de99442a",
   "metadata": {},
   "outputs": [],
   "source": [
    "constDf = pd.DataFrame(cnst, index = [\"a\",\"b\"])"
   ]
  },
  {
   "cell_type": "code",
   "execution_count": 31,
   "id": "a73e7751",
   "metadata": {},
   "outputs": [
    {
     "data": {
      "text/html": [
       "<div>\n",
       "<style scoped>\n",
       "    .dataframe tbody tr th:only-of-type {\n",
       "        vertical-align: middle;\n",
       "    }\n",
       "\n",
       "    .dataframe tbody tr th {\n",
       "        vertical-align: top;\n",
       "    }\n",
       "\n",
       "    .dataframe thead th {\n",
       "        text-align: right;\n",
       "    }\n",
       "</style>\n",
       "<table border=\"1\" class=\"dataframe\">\n",
       "  <thead>\n",
       "    <tr style=\"text-align: right;\">\n",
       "      <th></th>\n",
       "      <th>col1</th>\n",
       "      <th>col2</th>\n",
       "      <th>col3</th>\n",
       "    </tr>\n",
       "  </thead>\n",
       "  <tbody>\n",
       "    <tr>\n",
       "      <th>a</th>\n",
       "      <td>1</td>\n",
       "      <td>2</td>\n",
       "      <td>1</td>\n",
       "    </tr>\n",
       "    <tr>\n",
       "      <th>b</th>\n",
       "      <td>1</td>\n",
       "      <td>2</td>\n",
       "      <td>34</td>\n",
       "    </tr>\n",
       "  </tbody>\n",
       "</table>\n",
       "</div>"
      ],
      "text/plain": [
       "   col1  col2  col3 \n",
       "a     1     2      1\n",
       "b     1     2     34"
      ]
     },
     "execution_count": 31,
     "metadata": {},
     "output_type": "execute_result"
    }
   ],
   "source": [
    "constDf"
   ]
  },
  {
   "cell_type": "code",
   "execution_count": 33,
   "id": "9344b9ce",
   "metadata": {},
   "outputs": [
    {
     "data": {
      "text/plain": [
       "col1     int64\n",
       "col2     int64\n",
       "col3     int64\n",
       "dtype: object"
      ]
     },
     "execution_count": 33,
     "metadata": {},
     "output_type": "execute_result"
    }
   ],
   "source": [
    "constDf.dtypes"
   ]
  },
  {
   "cell_type": "code",
   "execution_count": 6,
   "id": "633c3eb1",
   "metadata": {},
   "outputs": [],
   "source": [
    "table = pd.DataFrame(dict, index = [\"first\", \"second\"])"
   ]
  },
  {
   "cell_type": "code",
   "execution_count": 7,
   "id": "0fb5e1f7",
   "metadata": {},
   "outputs": [
    {
     "data": {
      "text/html": [
       "<div>\n",
       "<style scoped>\n",
       "    .dataframe tbody tr th:only-of-type {\n",
       "        vertical-align: middle;\n",
       "    }\n",
       "\n",
       "    .dataframe tbody tr th {\n",
       "        vertical-align: top;\n",
       "    }\n",
       "\n",
       "    .dataframe thead th {\n",
       "        text-align: right;\n",
       "    }\n",
       "</style>\n",
       "<table border=\"1\" class=\"dataframe\">\n",
       "  <thead>\n",
       "    <tr style=\"text-align: right;\">\n",
       "      <th></th>\n",
       "      <th>col1</th>\n",
       "      <th>col2</th>\n",
       "    </tr>\n",
       "  </thead>\n",
       "  <tbody>\n",
       "    <tr>\n",
       "      <th>first</th>\n",
       "      <td>1</td>\n",
       "      <td>2</td>\n",
       "    </tr>\n",
       "    <tr>\n",
       "      <th>second</th>\n",
       "      <td>2</td>\n",
       "      <td>3</td>\n",
       "    </tr>\n",
       "  </tbody>\n",
       "</table>\n",
       "</div>"
      ],
      "text/plain": [
       "        col1  col2\n",
       "first      1     2\n",
       "second     2     3"
      ]
     },
     "execution_count": 7,
     "metadata": {},
     "output_type": "execute_result"
    }
   ],
   "source": [
    "table"
   ]
  },
  {
   "cell_type": "code",
   "execution_count": 32,
   "id": "9ea6929c",
   "metadata": {},
   "outputs": [
    {
     "data": {
      "text/plain": [
       "col1    int64\n",
       "col2    int64\n",
       "dtype: object"
      ]
     },
     "execution_count": 32,
     "metadata": {},
     "output_type": "execute_result"
    }
   ],
   "source": [
    "table.dtypes"
   ]
  },
  {
   "cell_type": "markdown",
   "id": "0a84a2ba",
   "metadata": {},
   "source": [
    "* data frame from numpy array"
   ]
  },
  {
   "cell_type": "code",
   "execution_count": 40,
   "id": "d228853a",
   "metadata": {},
   "outputs": [],
   "source": [
    "num_ar = np.array([[1,2,3],[2,4,5], [5,7,8]])"
   ]
  },
  {
   "cell_type": "code",
   "execution_count": 42,
   "id": "61e81ae6",
   "metadata": {},
   "outputs": [],
   "source": [
    "NpDf = pd.DataFrame(num_ar)"
   ]
  },
  {
   "cell_type": "code",
   "execution_count": 44,
   "id": "f086a594",
   "metadata": {},
   "outputs": [
    {
     "data": {
      "text/html": [
       "<div>\n",
       "<style scoped>\n",
       "    .dataframe tbody tr th:only-of-type {\n",
       "        vertical-align: middle;\n",
       "    }\n",
       "\n",
       "    .dataframe tbody tr th {\n",
       "        vertical-align: top;\n",
       "    }\n",
       "\n",
       "    .dataframe thead th {\n",
       "        text-align: right;\n",
       "    }\n",
       "</style>\n",
       "<table border=\"1\" class=\"dataframe\">\n",
       "  <thead>\n",
       "    <tr style=\"text-align: right;\">\n",
       "      <th></th>\n",
       "      <th>0</th>\n",
       "      <th>1</th>\n",
       "      <th>2</th>\n",
       "    </tr>\n",
       "  </thead>\n",
       "  <tbody>\n",
       "    <tr>\n",
       "      <th>0</th>\n",
       "      <td>1</td>\n",
       "      <td>2</td>\n",
       "      <td>3</td>\n",
       "    </tr>\n",
       "    <tr>\n",
       "      <th>1</th>\n",
       "      <td>2</td>\n",
       "      <td>4</td>\n",
       "      <td>5</td>\n",
       "    </tr>\n",
       "    <tr>\n",
       "      <th>2</th>\n",
       "      <td>5</td>\n",
       "      <td>7</td>\n",
       "      <td>8</td>\n",
       "    </tr>\n",
       "  </tbody>\n",
       "</table>\n",
       "</div>"
      ],
      "text/plain": [
       "   0  1  2\n",
       "0  1  2  3\n",
       "1  2  4  5\n",
       "2  5  7  8"
      ]
     },
     "execution_count": 44,
     "metadata": {},
     "output_type": "execute_result"
    }
   ],
   "source": [
    "NpDf"
   ]
  },
  {
   "cell_type": "markdown",
   "id": "e487c03c",
   "metadata": {},
   "source": [
    "* add custum column"
   ]
  },
  {
   "cell_type": "code",
   "execution_count": 46,
   "id": "92c7d5fb",
   "metadata": {},
   "outputs": [],
   "source": [
    "npDf = pd.DataFrame(num_ar, columns = [\"col1\", \"col2\", \"col3\"])"
   ]
  },
  {
   "cell_type": "code",
   "execution_count": 48,
   "id": "642ec6bc",
   "metadata": {},
   "outputs": [
    {
     "data": {
      "text/html": [
       "<div>\n",
       "<style scoped>\n",
       "    .dataframe tbody tr th:only-of-type {\n",
       "        vertical-align: middle;\n",
       "    }\n",
       "\n",
       "    .dataframe tbody tr th {\n",
       "        vertical-align: top;\n",
       "    }\n",
       "\n",
       "    .dataframe thead th {\n",
       "        text-align: right;\n",
       "    }\n",
       "</style>\n",
       "<table border=\"1\" class=\"dataframe\">\n",
       "  <thead>\n",
       "    <tr style=\"text-align: right;\">\n",
       "      <th></th>\n",
       "      <th>col1</th>\n",
       "      <th>col2</th>\n",
       "      <th>col3</th>\n",
       "    </tr>\n",
       "  </thead>\n",
       "  <tbody>\n",
       "    <tr>\n",
       "      <th>0</th>\n",
       "      <td>1</td>\n",
       "      <td>2</td>\n",
       "      <td>3</td>\n",
       "    </tr>\n",
       "    <tr>\n",
       "      <th>1</th>\n",
       "      <td>2</td>\n",
       "      <td>4</td>\n",
       "      <td>5</td>\n",
       "    </tr>\n",
       "    <tr>\n",
       "      <th>2</th>\n",
       "      <td>5</td>\n",
       "      <td>7</td>\n",
       "      <td>8</td>\n",
       "    </tr>\n",
       "  </tbody>\n",
       "</table>\n",
       "</div>"
      ],
      "text/plain": [
       "   col1  col2  col3\n",
       "0     1     2     3\n",
       "1     2     4     5\n",
       "2     5     7     8"
      ]
     },
     "execution_count": 48,
     "metadata": {},
     "output_type": "execute_result"
    }
   ],
   "source": [
    "npDf"
   ]
  },
  {
   "cell_type": "code",
   "execution_count": 50,
   "id": "51112a6d",
   "metadata": {},
   "outputs": [
    {
     "data": {
      "text/plain": [
       "col1    int32\n",
       "col2    int32\n",
       "col3    int32\n",
       "dtype: object"
      ]
     },
     "execution_count": 50,
     "metadata": {},
     "output_type": "execute_result"
    }
   ],
   "source": [
    "npDf.dtypes"
   ]
  },
  {
   "cell_type": "code",
   "execution_count": 52,
   "id": "74bf9ad2",
   "metadata": {},
   "outputs": [
    {
     "data": {
      "text/plain": [
       "9"
      ]
     },
     "execution_count": 52,
     "metadata": {},
     "output_type": "execute_result"
    }
   ],
   "source": [
    "npDf.size"
   ]
  },
  {
   "cell_type": "code",
   "execution_count": 54,
   "id": "c2fff78e",
   "metadata": {},
   "outputs": [
    {
     "data": {
      "text/plain": [
       "(3, 3)"
      ]
     },
     "execution_count": 54,
     "metadata": {},
     "output_type": "execute_result"
    }
   ],
   "source": [
    "npDf.shape"
   ]
  },
  {
   "cell_type": "code",
   "execution_count": 57,
   "id": "7dec484f",
   "metadata": {},
   "outputs": [
    {
     "data": {
      "text/plain": [
       "array([[1, 2, 3],\n",
       "       [2, 4, 5],\n",
       "       [5, 7, 8]])"
      ]
     },
     "execution_count": 57,
     "metadata": {},
     "output_type": "execute_result"
    }
   ],
   "source": [
    "npDf.values"
   ]
  },
  {
   "cell_type": "code",
   "execution_count": 59,
   "id": "09f0646a",
   "metadata": {},
   "outputs": [
    {
     "data": {
      "text/html": [
       "<style type=\"text/css\">\n",
       "</style>\n",
       "<table id=\"T_e9f11\">\n",
       "  <thead>\n",
       "    <tr>\n",
       "      <th class=\"blank level0\" >&nbsp;</th>\n",
       "      <th id=\"T_e9f11_level0_col0\" class=\"col_heading level0 col0\" >col1</th>\n",
       "      <th id=\"T_e9f11_level0_col1\" class=\"col_heading level0 col1\" >col2</th>\n",
       "      <th id=\"T_e9f11_level0_col2\" class=\"col_heading level0 col2\" >col3</th>\n",
       "    </tr>\n",
       "  </thead>\n",
       "  <tbody>\n",
       "    <tr>\n",
       "      <th id=\"T_e9f11_level0_row0\" class=\"row_heading level0 row0\" >0</th>\n",
       "      <td id=\"T_e9f11_row0_col0\" class=\"data row0 col0\" >1</td>\n",
       "      <td id=\"T_e9f11_row0_col1\" class=\"data row0 col1\" >2</td>\n",
       "      <td id=\"T_e9f11_row0_col2\" class=\"data row0 col2\" >3</td>\n",
       "    </tr>\n",
       "    <tr>\n",
       "      <th id=\"T_e9f11_level0_row1\" class=\"row_heading level0 row1\" >1</th>\n",
       "      <td id=\"T_e9f11_row1_col0\" class=\"data row1 col0\" >2</td>\n",
       "      <td id=\"T_e9f11_row1_col1\" class=\"data row1 col1\" >4</td>\n",
       "      <td id=\"T_e9f11_row1_col2\" class=\"data row1 col2\" >5</td>\n",
       "    </tr>\n",
       "    <tr>\n",
       "      <th id=\"T_e9f11_level0_row2\" class=\"row_heading level0 row2\" >2</th>\n",
       "      <td id=\"T_e9f11_row2_col0\" class=\"data row2 col0\" >5</td>\n",
       "      <td id=\"T_e9f11_row2_col1\" class=\"data row2 col1\" >7</td>\n",
       "      <td id=\"T_e9f11_row2_col2\" class=\"data row2 col2\" >8</td>\n",
       "    </tr>\n",
       "  </tbody>\n",
       "</table>\n"
      ],
      "text/plain": [
       "<pandas.io.formats.style.Styler at 0x29ab2f45db0>"
      ]
     },
     "execution_count": 59,
     "metadata": {},
     "output_type": "execute_result"
    }
   ],
   "source": [
    "npDf.style"
   ]
  },
  {
   "cell_type": "code",
   "execution_count": 61,
   "id": "900a8245",
   "metadata": {},
   "outputs": [
    {
     "data": {
      "text/plain": [
       "2"
      ]
     },
     "execution_count": 61,
     "metadata": {},
     "output_type": "execute_result"
    }
   ],
   "source": [
    "npDf.ndim"
   ]
  },
  {
   "cell_type": "markdown",
   "id": "87bda960",
   "metadata": {},
   "source": [
    "# get and set  specified row/column pair"
   ]
  },
  {
   "cell_type": "markdown",
   "id": "4e77c706",
   "metadata": {},
   "source": [
    " * get/access"
   ]
  },
  {
   "cell_type": "code",
   "execution_count": 62,
   "id": "b94a13f1",
   "metadata": {},
   "outputs": [],
   "source": [
    "df = npDf\n"
   ]
  },
  {
   "cell_type": "code",
   "execution_count": 64,
   "id": "708448e8",
   "metadata": {},
   "outputs": [
    {
     "data": {
      "text/html": [
       "<div>\n",
       "<style scoped>\n",
       "    .dataframe tbody tr th:only-of-type {\n",
       "        vertical-align: middle;\n",
       "    }\n",
       "\n",
       "    .dataframe tbody tr th {\n",
       "        vertical-align: top;\n",
       "    }\n",
       "\n",
       "    .dataframe thead th {\n",
       "        text-align: right;\n",
       "    }\n",
       "</style>\n",
       "<table border=\"1\" class=\"dataframe\">\n",
       "  <thead>\n",
       "    <tr style=\"text-align: right;\">\n",
       "      <th></th>\n",
       "      <th>col1</th>\n",
       "      <th>col2</th>\n",
       "      <th>col3</th>\n",
       "    </tr>\n",
       "  </thead>\n",
       "  <tbody>\n",
       "    <tr>\n",
       "      <th>0</th>\n",
       "      <td>1</td>\n",
       "      <td>2</td>\n",
       "      <td>3</td>\n",
       "    </tr>\n",
       "    <tr>\n",
       "      <th>1</th>\n",
       "      <td>2</td>\n",
       "      <td>4</td>\n",
       "      <td>5</td>\n",
       "    </tr>\n",
       "    <tr>\n",
       "      <th>2</th>\n",
       "      <td>5</td>\n",
       "      <td>7</td>\n",
       "      <td>8</td>\n",
       "    </tr>\n",
       "  </tbody>\n",
       "</table>\n",
       "</div>"
      ],
      "text/plain": [
       "   col1  col2  col3\n",
       "0     1     2     3\n",
       "1     2     4     5\n",
       "2     5     7     8"
      ]
     },
     "execution_count": 64,
     "metadata": {},
     "output_type": "execute_result"
    }
   ],
   "source": [
    "df"
   ]
  },
  {
   "cell_type": "code",
   "execution_count": 66,
   "id": "cc3e08f6",
   "metadata": {},
   "outputs": [
    {
     "data": {
      "text/plain": [
       "5"
      ]
     },
     "execution_count": 66,
     "metadata": {},
     "output_type": "execute_result"
    }
   ],
   "source": [
    "df.iat[2,0]"
   ]
  },
  {
   "cell_type": "markdown",
   "id": "cbf33813",
   "metadata": {},
   "source": [
    " * set "
   ]
  },
  {
   "cell_type": "code",
   "execution_count": 67,
   "id": "64aabb97",
   "metadata": {},
   "outputs": [],
   "source": [
    "df.iat[2,0] = 23"
   ]
  },
  {
   "cell_type": "code",
   "execution_count": 69,
   "id": "99f8f4c6",
   "metadata": {},
   "outputs": [
    {
     "data": {
      "text/html": [
       "<div>\n",
       "<style scoped>\n",
       "    .dataframe tbody tr th:only-of-type {\n",
       "        vertical-align: middle;\n",
       "    }\n",
       "\n",
       "    .dataframe tbody tr th {\n",
       "        vertical-align: top;\n",
       "    }\n",
       "\n",
       "    .dataframe thead th {\n",
       "        text-align: right;\n",
       "    }\n",
       "</style>\n",
       "<table border=\"1\" class=\"dataframe\">\n",
       "  <thead>\n",
       "    <tr style=\"text-align: right;\">\n",
       "      <th></th>\n",
       "      <th>col1</th>\n",
       "      <th>col2</th>\n",
       "      <th>col3</th>\n",
       "    </tr>\n",
       "  </thead>\n",
       "  <tbody>\n",
       "    <tr>\n",
       "      <th>0</th>\n",
       "      <td>1</td>\n",
       "      <td>2</td>\n",
       "      <td>3</td>\n",
       "    </tr>\n",
       "    <tr>\n",
       "      <th>1</th>\n",
       "      <td>2</td>\n",
       "      <td>4</td>\n",
       "      <td>5</td>\n",
       "    </tr>\n",
       "    <tr>\n",
       "      <th>2</th>\n",
       "      <td>23</td>\n",
       "      <td>7</td>\n",
       "      <td>8</td>\n",
       "    </tr>\n",
       "  </tbody>\n",
       "</table>\n",
       "</div>"
      ],
      "text/plain": [
       "   col1  col2  col3\n",
       "0     1     2     3\n",
       "1     2     4     5\n",
       "2    23     7     8"
      ]
     },
     "execution_count": 69,
     "metadata": {},
     "output_type": "execute_result"
    }
   ],
   "source": [
    "df"
   ]
  },
  {
   "cell_type": "markdown",
   "id": "bc004a54",
   "metadata": {},
   "source": [
    "* CURD csv "
   ]
  },
  {
   "cell_type": "code",
   "execution_count": 72,
   "id": "78305b7a",
   "metadata": {},
   "outputs": [],
   "source": [
    "df = pd.DataFrame({\n",
    "    \"name\": [\"Kishore\", \"dileep\", \"Ali\"],\n",
    "    \"marks\":[12,34,56]\n",
    "})"
   ]
  },
  {
   "cell_type": "code",
   "execution_count": 74,
   "id": "ace7beb2",
   "metadata": {},
   "outputs": [
    {
     "data": {
      "text/html": [
       "<div>\n",
       "<style scoped>\n",
       "    .dataframe tbody tr th:only-of-type {\n",
       "        vertical-align: middle;\n",
       "    }\n",
       "\n",
       "    .dataframe tbody tr th {\n",
       "        vertical-align: top;\n",
       "    }\n",
       "\n",
       "    .dataframe thead th {\n",
       "        text-align: right;\n",
       "    }\n",
       "</style>\n",
       "<table border=\"1\" class=\"dataframe\">\n",
       "  <thead>\n",
       "    <tr style=\"text-align: right;\">\n",
       "      <th></th>\n",
       "      <th>name</th>\n",
       "      <th>marks</th>\n",
       "    </tr>\n",
       "  </thead>\n",
       "  <tbody>\n",
       "    <tr>\n",
       "      <th>0</th>\n",
       "      <td>Kishore</td>\n",
       "      <td>12</td>\n",
       "    </tr>\n",
       "    <tr>\n",
       "      <th>1</th>\n",
       "      <td>dileep</td>\n",
       "      <td>34</td>\n",
       "    </tr>\n",
       "    <tr>\n",
       "      <th>2</th>\n",
       "      <td>Ali</td>\n",
       "      <td>56</td>\n",
       "    </tr>\n",
       "  </tbody>\n",
       "</table>\n",
       "</div>"
      ],
      "text/plain": [
       "      name  marks\n",
       "0  Kishore     12\n",
       "1   dileep     34\n",
       "2      Ali     56"
      ]
     },
     "execution_count": 74,
     "metadata": {},
     "output_type": "execute_result"
    }
   ],
   "source": [
    "df"
   ]
  },
  {
   "cell_type": "code",
   "execution_count": 76,
   "id": "4a2a80fc",
   "metadata": {},
   "outputs": [
    {
     "data": {
      "text/plain": [
       "'name,marks\\r\\nKishore,12\\r\\ndileep,34\\r\\nAli,56\\r\\n'"
      ]
     },
     "execution_count": 76,
     "metadata": {},
     "output_type": "execute_result"
    }
   ],
   "source": [
    "df.to_csv(index = False)"
   ]
  },
  {
   "cell_type": "code",
   "execution_count": 78,
   "id": "df1b7453",
   "metadata": {},
   "outputs": [],
   "source": [
    "df.to_csv(\"out.csv\")"
   ]
  },
  {
   "cell_type": "code",
   "execution_count": 81,
   "id": "2fa42841",
   "metadata": {},
   "outputs": [],
   "source": [
    "df.to_excel(\"sheet1.xlsx\", sheet_name = \"new1\")"
   ]
  },
  {
   "cell_type": "code",
   "execution_count": 6,
   "id": "d0ac5730",
   "metadata": {},
   "outputs": [],
   "source": [
    "dictExp = {\"experience\": [ 1.1,\n",
    "1.3,\n",
    "1.5,\n",
    "2.0,\n",
    "2.2,2.9,\n",
    "3.0,\n",
    "3.2,\n",
    "3.2,\n",
    "3.7,\n",
    "3.9,\n",
    "4.0,\n",
    "4.0,\n",
    "4.1,\n",
    "4.5,\n",
    "4.9,\n",
    "5.1,\n",
    "5.3,\n",
    "5.9,\n",
    "6.0,\n",
    "6.8,\n",
    "7.1,\n",
    "7.9,\n",
    "8.2,\n",
    "8.7,9.0,\n",
    "9.5,\n",
    "9.6,\n",
    "10.3,\n",
    "10.5,],\"salary\":[39343.00\n",
    ",46205.00\n",
    ",37731.00\n",
    ",43525.00\n",
    ",39891.00\n",
    ",56642.00\n",
    ",60150.00\n",
    ",54445.00\n",
    ",64445.00\n",
    ",57189.00\n",
    ",63218.00\n",
    ",55794.00\n",
    ",56957.00\n",
    ",57081.00\n",
    ",61111.00\n",
    ",67938.00\n",
    ",66029.00\n",
    ",83088.00\n",
    ",81363.00\n",
    ",93940.00\n",
    ",91738.00\n",
    ",98273.00\n",
    ",101302.00\n",
    ",113812.00\n",
    ",109431.00\n",
    ",105582.00\n",
    ",116969.00\n",
    ",112635.00\n",
    ",122391.00\n",
    ",5121872.00]}"
   ]
  },
  {
   "cell_type": "code",
   "execution_count": 8,
   "id": "baef9310",
   "metadata": {},
   "outputs": [],
   "source": [
    "TData = pd.DataFrame(dictExp)"
   ]
  },
  {
   "cell_type": "code",
   "execution_count": 9,
   "id": "116eb5cc",
   "metadata": {},
   "outputs": [
    {
     "data": {
      "text/html": [
       "<div>\n",
       "<style scoped>\n",
       "    .dataframe tbody tr th:only-of-type {\n",
       "        vertical-align: middle;\n",
       "    }\n",
       "\n",
       "    .dataframe tbody tr th {\n",
       "        vertical-align: top;\n",
       "    }\n",
       "\n",
       "    .dataframe thead th {\n",
       "        text-align: right;\n",
       "    }\n",
       "</style>\n",
       "<table border=\"1\" class=\"dataframe\">\n",
       "  <thead>\n",
       "    <tr style=\"text-align: right;\">\n",
       "      <th></th>\n",
       "      <th>experience</th>\n",
       "      <th>salary</th>\n",
       "    </tr>\n",
       "  </thead>\n",
       "  <tbody>\n",
       "    <tr>\n",
       "      <th>0</th>\n",
       "      <td>1.1</td>\n",
       "      <td>39343.0</td>\n",
       "    </tr>\n",
       "    <tr>\n",
       "      <th>1</th>\n",
       "      <td>1.3</td>\n",
       "      <td>46205.0</td>\n",
       "    </tr>\n",
       "    <tr>\n",
       "      <th>2</th>\n",
       "      <td>1.5</td>\n",
       "      <td>37731.0</td>\n",
       "    </tr>\n",
       "    <tr>\n",
       "      <th>3</th>\n",
       "      <td>2.0</td>\n",
       "      <td>43525.0</td>\n",
       "    </tr>\n",
       "    <tr>\n",
       "      <th>4</th>\n",
       "      <td>2.2</td>\n",
       "      <td>39891.0</td>\n",
       "    </tr>\n",
       "    <tr>\n",
       "      <th>5</th>\n",
       "      <td>2.9</td>\n",
       "      <td>56642.0</td>\n",
       "    </tr>\n",
       "    <tr>\n",
       "      <th>6</th>\n",
       "      <td>3.0</td>\n",
       "      <td>60150.0</td>\n",
       "    </tr>\n",
       "    <tr>\n",
       "      <th>7</th>\n",
       "      <td>3.2</td>\n",
       "      <td>54445.0</td>\n",
       "    </tr>\n",
       "    <tr>\n",
       "      <th>8</th>\n",
       "      <td>3.2</td>\n",
       "      <td>64445.0</td>\n",
       "    </tr>\n",
       "    <tr>\n",
       "      <th>9</th>\n",
       "      <td>3.7</td>\n",
       "      <td>57189.0</td>\n",
       "    </tr>\n",
       "    <tr>\n",
       "      <th>10</th>\n",
       "      <td>3.9</td>\n",
       "      <td>63218.0</td>\n",
       "    </tr>\n",
       "    <tr>\n",
       "      <th>11</th>\n",
       "      <td>4.0</td>\n",
       "      <td>55794.0</td>\n",
       "    </tr>\n",
       "    <tr>\n",
       "      <th>12</th>\n",
       "      <td>4.0</td>\n",
       "      <td>56957.0</td>\n",
       "    </tr>\n",
       "    <tr>\n",
       "      <th>13</th>\n",
       "      <td>4.1</td>\n",
       "      <td>57081.0</td>\n",
       "    </tr>\n",
       "    <tr>\n",
       "      <th>14</th>\n",
       "      <td>4.5</td>\n",
       "      <td>61111.0</td>\n",
       "    </tr>\n",
       "    <tr>\n",
       "      <th>15</th>\n",
       "      <td>4.9</td>\n",
       "      <td>67938.0</td>\n",
       "    </tr>\n",
       "    <tr>\n",
       "      <th>16</th>\n",
       "      <td>5.1</td>\n",
       "      <td>66029.0</td>\n",
       "    </tr>\n",
       "    <tr>\n",
       "      <th>17</th>\n",
       "      <td>5.3</td>\n",
       "      <td>83088.0</td>\n",
       "    </tr>\n",
       "    <tr>\n",
       "      <th>18</th>\n",
       "      <td>5.9</td>\n",
       "      <td>81363.0</td>\n",
       "    </tr>\n",
       "    <tr>\n",
       "      <th>19</th>\n",
       "      <td>6.0</td>\n",
       "      <td>93940.0</td>\n",
       "    </tr>\n",
       "    <tr>\n",
       "      <th>20</th>\n",
       "      <td>6.8</td>\n",
       "      <td>91738.0</td>\n",
       "    </tr>\n",
       "    <tr>\n",
       "      <th>21</th>\n",
       "      <td>7.1</td>\n",
       "      <td>98273.0</td>\n",
       "    </tr>\n",
       "    <tr>\n",
       "      <th>22</th>\n",
       "      <td>7.9</td>\n",
       "      <td>101302.0</td>\n",
       "    </tr>\n",
       "    <tr>\n",
       "      <th>23</th>\n",
       "      <td>8.2</td>\n",
       "      <td>113812.0</td>\n",
       "    </tr>\n",
       "    <tr>\n",
       "      <th>24</th>\n",
       "      <td>8.7</td>\n",
       "      <td>109431.0</td>\n",
       "    </tr>\n",
       "    <tr>\n",
       "      <th>25</th>\n",
       "      <td>9.0</td>\n",
       "      <td>105582.0</td>\n",
       "    </tr>\n",
       "    <tr>\n",
       "      <th>26</th>\n",
       "      <td>9.5</td>\n",
       "      <td>116969.0</td>\n",
       "    </tr>\n",
       "    <tr>\n",
       "      <th>27</th>\n",
       "      <td>9.6</td>\n",
       "      <td>112635.0</td>\n",
       "    </tr>\n",
       "    <tr>\n",
       "      <th>28</th>\n",
       "      <td>10.3</td>\n",
       "      <td>122391.0</td>\n",
       "    </tr>\n",
       "    <tr>\n",
       "      <th>29</th>\n",
       "      <td>10.5</td>\n",
       "      <td>5121872.0</td>\n",
       "    </tr>\n",
       "  </tbody>\n",
       "</table>\n",
       "</div>"
      ],
      "text/plain": [
       "    experience     salary\n",
       "0          1.1    39343.0\n",
       "1          1.3    46205.0\n",
       "2          1.5    37731.0\n",
       "3          2.0    43525.0\n",
       "4          2.2    39891.0\n",
       "5          2.9    56642.0\n",
       "6          3.0    60150.0\n",
       "7          3.2    54445.0\n",
       "8          3.2    64445.0\n",
       "9          3.7    57189.0\n",
       "10         3.9    63218.0\n",
       "11         4.0    55794.0\n",
       "12         4.0    56957.0\n",
       "13         4.1    57081.0\n",
       "14         4.5    61111.0\n",
       "15         4.9    67938.0\n",
       "16         5.1    66029.0\n",
       "17         5.3    83088.0\n",
       "18         5.9    81363.0\n",
       "19         6.0    93940.0\n",
       "20         6.8    91738.0\n",
       "21         7.1    98273.0\n",
       "22         7.9   101302.0\n",
       "23         8.2   113812.0\n",
       "24         8.7   109431.0\n",
       "25         9.0   105582.0\n",
       "26         9.5   116969.0\n",
       "27         9.6   112635.0\n",
       "28        10.3   122391.0\n",
       "29        10.5  5121872.0"
      ]
     },
     "execution_count": 9,
     "metadata": {},
     "output_type": "execute_result"
    }
   ],
   "source": [
    "TData"
   ]
  },
  {
   "cell_type": "code",
   "execution_count": 10,
   "id": "7c9b6006",
   "metadata": {},
   "outputs": [
    {
     "data": {
      "text/plain": [
       "0      1.1\n",
       "1      1.3\n",
       "2      1.5\n",
       "3      2.0\n",
       "4      2.2\n",
       "5      2.9\n",
       "6      3.0\n",
       "7      3.2\n",
       "8      3.2\n",
       "9      3.7\n",
       "10     3.9\n",
       "11     4.0\n",
       "12     4.0\n",
       "13     4.1\n",
       "14     4.5\n",
       "15     4.9\n",
       "16     5.1\n",
       "17     5.3\n",
       "18     5.9\n",
       "19     6.0\n",
       "20     6.8\n",
       "21     7.1\n",
       "22     7.9\n",
       "23     8.2\n",
       "24     8.7\n",
       "25     9.0\n",
       "26     9.5\n",
       "27     9.6\n",
       "28    10.3\n",
       "29    10.5\n",
       "Name: experience, dtype: float64"
      ]
     },
     "execution_count": 10,
     "metadata": {},
     "output_type": "execute_result"
    }
   ],
   "source": [
    "TData['experience']"
   ]
  },
  {
   "cell_type": "code",
   "execution_count": 11,
   "id": "399a9c19",
   "metadata": {},
   "outputs": [
    {
     "data": {
      "text/plain": [
       "0       39343.0\n",
       "1       46205.0\n",
       "2       37731.0\n",
       "3       43525.0\n",
       "4       39891.0\n",
       "5       56642.0\n",
       "6       60150.0\n",
       "7       54445.0\n",
       "8       64445.0\n",
       "9       57189.0\n",
       "10      63218.0\n",
       "11      55794.0\n",
       "12      56957.0\n",
       "13      57081.0\n",
       "14      61111.0\n",
       "15      67938.0\n",
       "16      66029.0\n",
       "17      83088.0\n",
       "18      81363.0\n",
       "19      93940.0\n",
       "20      91738.0\n",
       "21      98273.0\n",
       "22     101302.0\n",
       "23     113812.0\n",
       "24     109431.0\n",
       "25     105582.0\n",
       "26     116969.0\n",
       "27     112635.0\n",
       "28     122391.0\n",
       "29    5121872.0\n",
       "Name: salary, dtype: float64"
      ]
     },
     "execution_count": 11,
     "metadata": {},
     "output_type": "execute_result"
    }
   ],
   "source": [
    "TData[\"salary\"]"
   ]
  }
 ],
 "metadata": {
  "kernelspec": {
   "display_name": "Python 3 (ipykernel)",
   "language": "python",
   "name": "python3"
  },
  "language_info": {
   "codemirror_mode": {
    "name": "ipython",
    "version": 3
   },
   "file_extension": ".py",
   "mimetype": "text/x-python",
   "name": "python",
   "nbconvert_exporter": "python",
   "pygments_lexer": "ipython3",
   "version": "3.10.7"
  }
 },
 "nbformat": 4,
 "nbformat_minor": 5
}
